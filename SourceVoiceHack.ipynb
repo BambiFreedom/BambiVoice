{
  "nbformat": 4,
  "nbformat_minor": 0,
  "metadata": {
    "colab": {
      "provenance": []
    },
    "kernelspec": {
      "name": "python3",
      "display_name": "Python 3"
    },
    "language_info": {
      "name": "python"
    }
  },
  "cells": [
    {
      "cell_type": "code",
      "execution_count": null,
      "metadata": {
        "id": "3NyFdoabKYFk"
      },
      "outputs": [],
      "source": [
        "!pip install pytube\n",
        "!pip install pydub\n",
        "!pip install TTS\n",
        "from pydub import AudioSegment\n",
        "from pytube import YouTube\n",
        "import IPython"
      ]
    },
    {
      "cell_type": "code",
      "source": [
        "# Handling The Model.  Change As Needed.\n",
        "import torch\n",
        "from TTS.api import TTS\n",
        "# Get device\n",
        "device = \"cuda\" if torch.cuda.is_available() else \"cpu\"\n",
        "# Init TTS\n",
        "tts = TTS(\"tts_models/multilingual/multi-dataset/xtts_v2\").to(device)"
      ],
      "metadata": {
        "id": "MJsEFDhvP5BJ"
      },
      "execution_count": null,
      "outputs": []
    },
    {
      "cell_type": "code",
      "source": [
        "# url of video that has the audio.\n",
        "yt = YouTube(\"\")\n",
        "# Default to the first audio file on the server.  It is not always the highest quality, but on a good connection it should be.\n",
        "# read the docs of pytube for more on how this can be changed. https://pytube.io/en/latest/\n",
        "RawMP3 = yt.streams.filter(only_audio=True).first()\n",
        "HoldRaw = RawMP3.download()"
      ],
      "metadata": {
        "id": "v-HsDYAXLejn"
      },
      "execution_count": null,
      "outputs": []
    },
    {
      "cell_type": "code",
      "source": [
        "# From here, it's just a bit of pydub and an array of time codes we are going to seek to and slice samples from.\n",
        "# These samples could be saved to disk, but since everything on colab gets wiped at the end of the session, it's so\n",
        "# much easier to hold them in memory.  We won't need them later, anyway.  Same thing with the time codes.  They could\n",
        "# totally be pulled from a text file and read into an array.  But that's more overhead that we don't need.\n",
        "\n",
        "TimeCodes = [] # IN MILLISECONDS!  It's going to be called as an int, so decimals will fuck it right the fuck up.\n",
        "\n",
        "MashUp = AudioSegment.empty()\n",
        "\n",
        "# Assuming there's at least one time range in the array to splice, we run a for loop through the array appending each splice\n",
        "# into the AudioSegment.  It's probably best to also have a slight pause, just so the TTS can seperate phonems.  It's not strictly\n",
        "# necessary, but TTS is weird.\n",
        "for i in range(0,len(TimeCodes),2):\n",
        "  MashUp = MashUp.append(int(TimeCodes[i]):int(TimeCodes[i+1]))\n",
        "  MashUp = MashUp.appent(AudioSegment.silent(duration=500))\n",
        "# It should be as close to 20 seconds as possible, and a half second (500 milliseconds) pause after each loop.  Obviously, the duration can be changed\n",
        "# as needed.  The voice clone engine needs it to be a WAV, so it gets exported locally here.  Just to make the engine happy.  It SHOULD be able\n",
        "# to just pull it from memory, but I don't want to fight it.\n",
        "MashUp.export(\"ClipSample.wav\", format=\"wav\")"
      ],
      "metadata": {
        "id": "nYRTQnPAM6qZ"
      },
      "execution_count": null,
      "outputs": []
    },
    {
      "cell_type": "code",
      "source": [
        "# Use any Phenome Pangram here.  It's easy to find them online.  I'll put a few in as comments, just for the cause.\n",
        "# It's worth noting tho, that some produce british accents.  The easiest way to undo that is use a different one.\n",
        "# I think it has something to do with how recursive it is in cloning, but I don't care enought to check this theory.\n",
        "#\n",
        "# https://clagnut.com/blog/2380/#English_phonetic_pangrams\n",
        "# \"With tenure, Suzie’d have all the more leisure for yachting, but her publications are no good.\"\n",
        "# \"Shaw, those twelve beige hooks are joined if I patch a young, gooey mouth.\"\n",
        "# \"The beige hue on the waters of the loch impressed all, including the French queen, before she heard that symphony again, just as young Arthur wanted.\"\n",
        "script=\"The beige hue on the waters of the loch impressed all, including the French queen, before she heard that symphony again, just as young Arthur wanted.\"\n",
        "NewVoice = tts.tts(text=script, speaker_wav=\"ClipSample.wav\", language=\"en\")\n",
        "# And now we save it as a WAV, since that's what the engine will want to pull from when it's used in the future.  But it WILL OVERWRITE ANYTHING\n",
        "# THAT IS ALREADY THERE WITH THE SAME NAME.  SO IF YOU HAVE ONE YOU LIKE, MOVE IT OR SOMETHING.  PYDUB DOESN'T FUCK AROUND.\n",
        "NewVoice.export(\"MasterCopy.wav\", format=\"wav\")\n",
        "#\n",
        "# IPython will smash in a little player, so you can preview it without downloading.  If it sounds good, you're done.  Now you can clone any speech\n",
        "# off it.  The better it sounds here, the better it will clone.  Any problems it has here can be corrected by getting better samples.\n",
        "# It should be very obvious how easy this makes ANY voice to reproduce.  Without retraining a whole model on a whole dataset.\n",
        "IPython.display.Audio(\"MasterCopy.wav\")"
      ],
      "metadata": {
        "id": "HeW6GP3APqZF"
      },
      "execution_count": null,
      "outputs": []
    }
  ]
}